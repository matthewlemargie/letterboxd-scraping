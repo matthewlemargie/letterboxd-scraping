{
 "cells": [
  {
   "cell_type": "code",
   "execution_count": null,
   "id": "55240a33-f59c-4860-a9a6-bd64249eb730",
   "metadata": {},
   "outputs": [],
   "source": [
    "import regex as re\n",
    "import pandas as pd\n",
    "import time"
   ]
  },
  {
   "cell_type": "code",
   "execution_count": null,
   "id": "d28ae42e-0afb-4439-be87-109e5555049d",
   "metadata": {},
   "outputs": [],
   "source": [
    "reviews = pd.read_csv(\"user_reviews_multithread.csv\", on_bad_lines='skip')"
   ]
  },
  {
   "cell_type": "code",
   "execution_count": null,
   "id": "5b1201fa-241a-4617-b476-cf95a3ae7e4f",
   "metadata": {},
   "outputs": [],
   "source": [
    "print(\"Unique users: \", len(reviews.user.unique()))\n",
    "print(\"Unique movies: \", len(reviews.movie.unique()))\n",
    "print(\"Total reviews: \", len(reviews))\n",
    "reviews.head(3)"
   ]
  },
  {
   "cell_type": "code",
   "execution_count": null,
   "id": "c65a91d4-4cb8-4047-8df4-7c0e04ae88c5",
   "metadata": {},
   "outputs": [],
   "source": [
    "reviews = reviews.sort_values(by=[\"film_popularity\", \"review_popularity\"], ascending=[True, True])"
   ]
  },
  {
   "cell_type": "code",
   "execution_count": null,
   "id": "a077e455-4d63-494c-ace5-be044a3f07fb",
   "metadata": {},
   "outputs": [],
   "source": [
    "movies = pd.read_csv(\"letterboxd_saved.csv\")"
   ]
  },
  {
   "cell_type": "code",
   "execution_count": null,
   "id": "c45c9a86-ec6f-4f55-b81a-70c014df5785",
   "metadata": {},
   "outputs": [],
   "source": [
    "# clean strings from five stars column\n",
    "movies['five stars'] = pd.to_numeric(movies['five stars'], errors='coerce')\n",
    "movies = movies.dropna(subset=['five stars'])\n",
    "\n",
    "# add column for average rating\n",
    "weights = list(range(1, 11))\n",
    "weights = [w / 2 for w in weights]\n",
    "movies[\"avg rating\"] = movies.iloc[:, 6:16].dot(weights) / movies.iloc[:, 6:16].sum(axis=1)"
   ]
  },
  {
   "cell_type": "code",
   "execution_count": null,
   "id": "de8ff905-f486-4355-a9cb-12278433d054",
   "metadata": {},
   "outputs": [],
   "source": [
    "# strip code title from url\n",
    "movies[\"url_movie_name\"] = movies[\"url\"].astype(str).apply(lambda x: x.rstrip(\"/\").split(\"/\")[-1] if \"/\" in x else None)\n",
    "years = movies[[\"movie\", \"url_movie_name\", \"year\", \"avg rating\"]]\n",
    "# years = years.rename(columns={\"movie\": \"title\", \"url_movie_name\": \"movie\"})\n",
    "\n",
    "# add movie release year to reviews dataframe\n",
    "mapping = years.set_index(\"url_movie_name\")[\"year\"].to_dict()\n",
    "reviews[\"release_year\"] = reviews[\"movie\"].map(mapping)\n",
    "\n",
    "# add average rating to reviews dataframe\n",
    "mapping = years.set_index(\"url_movie_name\")[\"avg rating\"].to_dict()\n",
    "reviews[\"avg rating\"] = reviews[\"movie\"].map(mapping)\n",
    "\n",
    "reviews[\"release_year\"] = reviews[\"release_year\"].astype(int)\n",
    "reviews[\"avg rating\"] = reviews[\"avg rating\"].astype(float)"
   ]
  },
  {
   "cell_type": "code",
   "execution_count": null,
   "id": "6698e6a3-2774-453d-8a0e-bb0bf87520f4",
   "metadata": {},
   "outputs": [],
   "source": [
    "reviews[reviews.release_year.isna()].movie.nunique()"
   ]
  },
  {
   "cell_type": "code",
   "execution_count": null,
   "id": "75bd6c3a-d9d4-499f-80d8-9d28ed82b8c8",
   "metadata": {},
   "outputs": [],
   "source": [
    "reviews.release_year.isna().any()"
   ]
  },
  {
   "cell_type": "code",
   "execution_count": null,
   "id": "94ce1329-68d3-4773-b1fe-ab862b29ce83",
   "metadata": {},
   "outputs": [],
   "source": [
    "reviews.head()\n",
    "# reviews.to_csv(\"reviews_cleaned.csv\", index=None)"
   ]
  },
  {
   "cell_type": "code",
   "execution_count": null,
   "id": "1db515ae-6729-46d9-ad2c-6094c377121d",
   "metadata": {},
   "outputs": [],
   "source": [
    "movies.head()\n",
    "# movies.to_csv(\"movies_cleaned.csv\", index=None)"
   ]
  }
 ],
 "metadata": {
  "kernelspec": {
   "display_name": "Python 3 (ipykernel)",
   "language": "python",
   "name": "python3"
  },
  "language_info": {
   "codemirror_mode": {
    "name": "ipython",
    "version": 3
   },
   "file_extension": ".py",
   "mimetype": "text/x-python",
   "name": "python",
   "nbconvert_exporter": "python",
   "pygments_lexer": "ipython3",
   "version": "3.12.7"
  }
 },
 "nbformat": 4,
 "nbformat_minor": 5
}
